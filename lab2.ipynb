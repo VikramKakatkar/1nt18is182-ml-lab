{
 "cells": [
  {
   "cell_type": "markdown",
   "metadata": {},
   "source": [
    "# 1.Bubble Sort"
   ]
  },
  {
   "cell_type": "markdown",
   "metadata": {},
   "source": [
    "### Bubble sort without user input"
   ]
  },
  {
   "cell_type": "code",
   "execution_count": null,
   "metadata": {},
   "outputs": [],
   "source": [
    "#Bubble sort without user input\n",
    "l = [3,2,1,4,5]\n",
    "#Traverse the list\n",
    "for i in range(len(l)):\n",
    "    for j in range(i+1,len(l)):\n",
    "        #check if the first num. is greater than the next num. if so swap\n",
    "        if(l[i] > l[j]):\n",
    "            temp = l[i]\n",
    "            l[i] = l[j]\n",
    "            l[j] = temp\n",
    "#print sorted elements\n",
    "print(\"Sorted elements\",end = \" \")\n",
    "print(l)"
   ]
  },
  {
   "cell_type": "markdown",
   "metadata": {},
   "source": [
    "### Bubble sort with user input"
   ]
  },
  {
   "cell_type": "code",
   "execution_count": 1,
   "metadata": {},
   "outputs": [
    {
     "name": "stdout",
     "output_type": "stream",
     "text": [
      "Enter the number of elements2\n",
      "Enter the elements\n",
      "3 2\n",
      "Sorted elements [2, 3]\n"
     ]
    }
   ],
   "source": [
    "#Bubble sort with user input\n",
    "n = int(input(\"Enter the number of elements\"))\n",
    "print(\"Enter the elements\")\n",
    "l = list(map(int,input().split()))\n",
    "for i in range(len(l)):\n",
    "    for j in range(i+1,len(l)):\n",
    "        if(l[i] > l[j]):\n",
    "            temp = l[i]\n",
    "            l[i] = l[j]\n",
    "            l[j] = temp\n",
    "print(\"Sorted elements\",end = \" \")\n",
    "print(l)"
   ]
  },
  {
   "cell_type": "markdown",
   "metadata": {},
   "source": [
    "# 2.Standard deviation and variance"
   ]
  },
  {
   "cell_type": "code",
   "execution_count": 2,
   "metadata": {},
   "outputs": [
    {
     "name": "stdout",
     "output_type": "stream",
     "text": [
      "Standard deviation is : 1.118033988749895 \n",
      "Variance is : 1.2500000000000002  \n"
     ]
    }
   ],
   "source": [
    "#Standard deviation and variance\n",
    "import math\n",
    "ar_ele = [1,2,3,4]\n",
    "temp_sum = 0\n",
    "#Calculate mean\n",
    "mean = sum(ar_ele) / len(ar_ele)\n",
    "#Calculate \n",
    "for i in ar_ele:\n",
    "    temp_sum = temp_sum + ((i-mean)**2)\n",
    "sd = math.sqrt((temp_sum / (len(ar_ele) )))\n",
    "var = sd*sd\n",
    "print(\"Standard deviation is : {} \" . format(sd))\n",
    "print(\"Variance is : {}  \" . format(var))"
   ]
  },
  {
   "cell_type": "code",
   "execution_count": null,
   "metadata": {},
   "outputs": [],
   "source": []
  }
 ],
 "metadata": {
  "kernelspec": {
   "display_name": "Python 3",
   "language": "python",
   "name": "python3"
  },
  "language_info": {
   "codemirror_mode": {
    "name": "ipython",
    "version": 3
   },
   "file_extension": ".py",
   "mimetype": "text/x-python",
   "name": "python",
   "nbconvert_exporter": "python",
   "pygments_lexer": "ipython3",
   "version": "3.8.10"
  }
 },
 "nbformat": 4,
 "nbformat_minor": 4
}
