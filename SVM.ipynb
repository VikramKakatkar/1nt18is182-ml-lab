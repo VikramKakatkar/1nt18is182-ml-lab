{
 "cells": [
  {
   "cell_type": "code",
   "execution_count": 18,
   "metadata": {},
   "outputs": [],
   "source": [
    "from sklearn.svm import SVC\n",
    "import numpy as np\n",
    "import pandas as pd\n",
    "from matplotlib import pyplot as plt"
   ]
  },
  {
   "cell_type": "code",
   "execution_count": 19,
   "metadata": {},
   "outputs": [],
   "source": [
    "x=np.array([[3,4],[1,4],[2,3],[6,-1],[7,-1],[5,-3]])\n",
    "y=np.array([-1,-1,-1,1,1,1])\n"
   ]
  },
  {
   "cell_type": "code",
   "execution_count": 20,
   "metadata": {},
   "outputs": [
    {
     "data": {
      "text/plain": [
       "SVC(C=100000.0, kernel='linear')"
      ]
     },
     "execution_count": 20,
     "metadata": {},
     "output_type": "execute_result"
    }
   ],
   "source": [
    "clf=SVC(C=1e5,kernel='linear')\n",
    "clf.fit(x,y)\n"
   ]
  },
  {
   "cell_type": "code",
   "execution_count": 21,
   "metadata": {},
   "outputs": [
    {
     "name": "stdout",
     "output_type": "stream",
     "text": [
      "w=  [[ 0.25 -0.25]]\n",
      "b=  [-0.75]\n",
      "Indices of support vectors =  [2 3]\n",
      "Support vectors =  [[ 2.  3.]\n",
      " [ 6. -1.]]\n",
      "Number of support vectors for each class =  [1 1]\n",
      "Coefficients of the support vector in the decision function =  [[0.0625 0.0625]]\n"
     ]
    }
   ],
   "source": [
    "print('w= ',clf.coef_)\n",
    "print('b= ',clf.intercept_)\n",
    "print('Indices of support vectors = ',clf.support_)\n",
    "print('Support vectors = ',clf.support_vectors_)\n",
    "print('Number of support vectors for each class = ',clf.n_support_)\n",
    "print('Coefficients of the support vector in the decision function = ',np.abs(clf.dual_coef_))"
   ]
  },
  {
   "cell_type": "code",
   "execution_count": 22,
   "metadata": {},
   "outputs": [
    {
     "name": "stdout",
     "output_type": "stream",
     "text": [
      "dataset           RI     Na    Mg    Al     Si     K    Ca    Ba   Fe  Type\n",
      "0    1.52101  13.64  4.49  1.10  71.78  0.06  8.75  0.00  0.0     1\n",
      "1    1.51761  13.89  3.60  1.36  72.73  0.48  7.83  0.00  0.0     1\n",
      "2    1.51618  13.53  3.55  1.54  72.99  0.39  7.78  0.00  0.0     1\n",
      "3    1.51766  13.21  3.69  1.29  72.61  0.57  8.22  0.00  0.0     1\n",
      "4    1.51742  13.27  3.62  1.24  73.08  0.55  8.07  0.00  0.0     1\n",
      "..       ...    ...   ...   ...    ...   ...   ...   ...  ...   ...\n",
      "209  1.51623  14.14  0.00  2.88  72.61  0.08  9.18  1.06  0.0     7\n",
      "210  1.51685  14.92  0.00  1.99  73.06  0.00  8.40  1.59  0.0     7\n",
      "211  1.52065  14.36  0.00  2.02  73.42  0.00  8.44  1.64  0.0     7\n",
      "212  1.51651  14.38  0.00  1.94  73.61  0.00  8.48  1.57  0.0     7\n",
      "213  1.51711  14.23  0.00  2.08  73.36  0.00  8.62  1.67  0.0     7\n",
      "\n",
      "[214 rows x 10 columns]\n"
     ]
    }
   ],
   "source": [
    "df=pd.read_csv(\"F://glass.csv\")\n",
    "print(\"dataset\",df)"
   ]
  },
  {
   "cell_type": "code",
   "execution_count": 23,
   "metadata": {},
   "outputs": [
    {
     "name": "stdout",
     "output_type": "stream",
     "text": [
      "[[ 0.87286765  0.28495326  1.25463857 ... -0.35287683 -0.5864509\n",
      "  -0.84827468]\n",
      " [-0.24933347  0.59181718  0.63616803 ... -0.35287683 -0.5864509\n",
      "  -0.84827468]\n",
      " [-0.72131806  0.14993314  0.60142249 ... -0.35287683 -0.5864509\n",
      "  -0.84827468]\n",
      " ...\n",
      " [ 0.75404635  1.16872135 -1.86551055 ...  2.95320036 -0.5864509\n",
      "   2.01047778]\n",
      " [-0.61239854  1.19327046 -1.86551055 ...  2.81208731 -0.5864509\n",
      "   2.01047778]\n",
      " [-0.41436305  1.00915211 -1.86551055 ...  3.01367739 -0.5864509\n",
      "   2.01047778]]\n"
     ]
    }
   ],
   "source": [
    "from sklearn.preprocessing import StandardScaler\n",
    "scaler = StandardScaler()\n",
    "print(scaler.fit_transform(df))"
   ]
  },
  {
   "cell_type": "code",
   "execution_count": 24,
   "metadata": {},
   "outputs": [],
   "source": [
    "x=df.drop('Type',axis=1)\n",
    "y=df.Type"
   ]
  },
  {
   "cell_type": "code",
   "execution_count": 25,
   "metadata": {},
   "outputs": [
    {
     "name": "stdout",
     "output_type": "stream",
     "text": [
      "[[ 1.51596 12.79     3.61    ...  8.07     0.       0.26   ]\n",
      " [ 1.51905 13.6      3.62    ...  8.76     0.       0.     ]\n",
      " [ 1.51755 12.71     3.42    ...  8.64     0.       0.     ]\n",
      " ...\n",
      " [ 1.52365 15.79     1.83    ...  8.61     1.68     0.     ]\n",
      " [ 1.51508 15.15     0.      ...  8.34     0.63     0.     ]\n",
      " [ 1.5164  14.37     0.      ...  9.45     0.54     0.     ]]\n"
     ]
    }
   ],
   "source": [
    "from sklearn.model_selection import train_test_split\n",
    "x_train,x_test,y_train,y_test=train_test_split(x,y,test_size=0.3)\n",
    "\n",
    "\n",
    "from sklearn import svm\n",
    "ml=svm.SVC(kernel='linear')\n",
    "ml.fit(x_train,y_train)\n",
    "\n",
    "\n",
    "print(ml.support_vectors_)"
   ]
  },
  {
   "cell_type": "code",
   "execution_count": 26,
   "metadata": {},
   "outputs": [
    {
     "name": "stdout",
     "output_type": "stream",
     "text": [
      "[38 48 12  8  3  9]\n"
     ]
    }
   ],
   "source": [
    "print(ml.n_support_)"
   ]
  },
  {
   "cell_type": "code",
   "execution_count": 27,
   "metadata": {},
   "outputs": [
    {
     "name": "stdout",
     "output_type": "stream",
     "text": [
      "Accuracy Score 0.5538461538461539\n",
      "Confusion Matrix [[13 14  0  0  0  0]\n",
      " [ 3 15  0  0  0  0]\n",
      " [ 2  3  0  0  0  0]\n",
      " [ 0  2  0  2  0  0]\n",
      " [ 0  4  0  0  2  0]\n",
      " [ 0  1  0  0  0  4]]\n",
      "Classification Report               precision    recall  f1-score   support\n",
      "\n",
      "           1       0.72      0.48      0.58        27\n",
      "           2       0.38      0.83      0.53        18\n",
      "           3       0.00      0.00      0.00         5\n",
      "           5       1.00      0.50      0.67         4\n",
      "           6       1.00      0.33      0.50         6\n",
      "           7       1.00      0.80      0.89         5\n",
      "\n",
      "    accuracy                           0.55        65\n",
      "   macro avg       0.68      0.49      0.53        65\n",
      "weighted avg       0.64      0.55      0.54        65\n",
      "\n"
     ]
    },
    {
     "name": "stderr",
     "output_type": "stream",
     "text": [
      "E:\\Python\\lib\\site-packages\\sklearn\\metrics\\_classification.py:1221: UndefinedMetricWarning: Precision and F-score are ill-defined and being set to 0.0 in labels with no predicted samples. Use `zero_division` parameter to control this behavior.\n",
      "  _warn_prf(average, modifier, msg_start, len(result))\n"
     ]
    }
   ],
   "source": [
    "y_pred=ml.predict(x_test)\n",
    "\n",
    "from sklearn.metrics import accuracy_score,confusion_matrix,classification_report\n",
    "print(\"Accuracy Score\",accuracy_score(y_test,y_pred))\n",
    "\n",
    "print(\"Confusion Matrix\",confusion_matrix(y_test,y_pred))\n",
    "\n",
    "print(\"Classification Report\",classification_report(y_test,y_pred))"
   ]
  },
  {
   "cell_type": "code",
   "execution_count": 28,
   "metadata": {},
   "outputs": [
    {
     "data": {
      "text/plain": [
       "SVC()"
      ]
     },
     "execution_count": 28,
     "metadata": {},
     "output_type": "execute_result"
    }
   ],
   "source": [
    "model1=SVC(kernel='sigmoid')\n",
    "model2=SVC(kernel='poly')\n",
    "model3=SVC(kernel='rbf')\n",
    "\n",
    "#With Different Kernels\n",
    "\n",
    "model1.fit(x_train,y_train)\n",
    "model2.fit(x_train,y_train)\n",
    "model3.fit(x_train,y_train)"
   ]
  },
  {
   "cell_type": "code",
   "execution_count": 29,
   "metadata": {},
   "outputs": [
    {
     "name": "stdout",
     "output_type": "stream",
     "text": [
      "Accuracy Score of kernel 1 0.27692307692307694\n",
      "Accuracy Score of kernel 2 0.27692307692307694\n",
      "Accuracy Score of kernel 3 0.27692307692307694\n"
     ]
    }
   ],
   "source": [
    "ypred1=model1.predict(x_test)\n",
    "ypred2=model2.predict(x_test)\n",
    "ypred3=model3.predict(x_test)\n",
    "\n",
    "print(\"Accuracy Score of kernel 1\",accuracy_score(y_test,ypred1))\n",
    "\n",
    "print(\"Accuracy Score of kernel 2\",accuracy_score(y_test,ypred2))\n",
    "\n",
    "print(\"Accuracy Score of kernel 3\",accuracy_score(y_test,ypred3))"
   ]
  },
  {
   "cell_type": "code",
   "execution_count": 30,
   "metadata": {},
   "outputs": [
    {
     "data": {
      "text/plain": [
       "[{'kernel': ['rbf'], 'gamma': [0.001, 0.0001], 'C': [1, 10, 100, 1000]},\n",
       " {'kernel': ['linear'], 'C': [1, 10, 100, 1000]},\n",
       " {'kernel': ['poly'], 'gamma': [0.001, 0.0001], 'degree': [2, 3, 4]},\n",
       " {'kernel': ['sigmoid'],\n",
       "  'C': [1, 10, 100, 1000],\n",
       "  'gamma': [0.001, 0.0001, 1e-05]}]"
      ]
     },
     "execution_count": 30,
     "metadata": {},
     "output_type": "execute_result"
    }
   ],
   "source": [
    "#Array method of using different kernels\n",
    "\n",
    "[{'kernel':['rbf'],'gamma':[1e-3,1e-4],\n",
    "     'C':[1,10,100,1000]},\n",
    "{'kernel':['linear'],'C':[1,10,100,1000]},\n",
    "{'kernel':['poly'],'gamma':[1e-3,1e-4],'degree':[2,3,4]},\n",
    "{'kernel':['sigmoid'],'C':[1,10,100,1000],'gamma':[1e-3,1e-4,1e-5]}]"
   ]
  },
  {
   "cell_type": "code",
   "execution_count": 31,
   "metadata": {},
   "outputs": [],
   "source": [
    "params_grid1=[{'kernel':['rbf']},\n",
    "             {'kernel':['linear']},\n",
    "             {'kernel':['poly']},\n",
    "             {'kernel':['sigmoid']}]"
   ]
  },
  {
   "cell_type": "code",
   "execution_count": 32,
   "metadata": {},
   "outputs": [
    {
     "name": "stderr",
     "output_type": "stream",
     "text": [
      "E:\\Python\\lib\\site-packages\\sklearn\\model_selection\\_split.py:670: UserWarning: The least populated class in y has only 3 members, which is less than n_splits=5.\n",
      "  warnings.warn((\"The least populated class in y has only %d\"\n"
     ]
    },
    {
     "data": {
      "text/plain": [
       "GridSearchCV(cv=5, estimator=SVC(),\n",
       "             param_grid=[{'kernel': ['rbf']}, {'kernel': ['linear']},\n",
       "                         {'kernel': ['poly']}, {'kernel': ['sigmoid']}])"
      ]
     },
     "execution_count": 32,
     "metadata": {},
     "output_type": "execute_result"
    }
   ],
   "source": [
    "from sklearn.model_selection import GridSearchCV\n",
    "svm_model=GridSearchCV(SVC(),params_grid1,cv=5)\n",
    "svm_model.fit(x_train,y_train)"
   ]
  },
  {
   "cell_type": "code",
   "execution_count": 33,
   "metadata": {},
   "outputs": [
    {
     "name": "stdout",
     "output_type": "stream",
     "text": [
      "Best score for training data: 0.6239080459770114 \n",
      "\n",
      "Best C: 1.0 \n",
      "\n",
      "Best Kernel: linear \n",
      "\n",
      "Best Gamma: scale \n",
      "\n"
     ]
    }
   ],
   "source": [
    "print('Best score for training data:',svm_model.best_score_,\"\\n\")\n",
    "\n",
    "#View the best parameters for the model found using grid search\n",
    "print('Best C:',svm_model.best_estimator_.C,\"\\n\")\n",
    "print('Best Kernel:',svm_model.best_estimator_.kernel,\"\\n\")\n",
    "print('Best Gamma:',svm_model.best_estimator_.gamma,\"\\n\")\n",
    "\n",
    "final_model=svm_model.best_estimator_\n",
    "Y_pred=final_model.predict(x_test)"
   ]
  },
  {
   "cell_type": "code",
   "execution_count": 34,
   "metadata": {},
   "outputs": [
    {
     "name": "stdout",
     "output_type": "stream",
     "text": [
      "0.5538461538461539\n"
     ]
    }
   ],
   "source": [
    "print(accuracy_score(y_test,Y_pred))"
   ]
  },
  {
   "cell_type": "code",
   "execution_count": null,
   "metadata": {},
   "outputs": [],
   "source": []
  }
 ],
 "metadata": {
  "kernelspec": {
   "display_name": "Python 3",
   "language": "python",
   "name": "python3"
  },
  "language_info": {
   "codemirror_mode": {
    "name": "ipython",
    "version": 3
   },
   "file_extension": ".py",
   "mimetype": "text/x-python",
   "name": "python",
   "nbconvert_exporter": "python",
   "pygments_lexer": "ipython3",
   "version": "3.8.3"
  }
 },
 "nbformat": 4,
 "nbformat_minor": 4
}
